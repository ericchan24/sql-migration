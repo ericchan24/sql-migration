{
 "cells": [
  {
   "cell_type": "code",
   "execution_count": 1,
   "id": "6f47157b",
   "metadata": {},
   "outputs": [],
   "source": [
    "def load_query():\n",
    "    return 'My Test String'"
   ]
  },
  {
   "cell_type": "code",
   "execution_count": 2,
   "id": "80144e28",
   "metadata": {},
   "outputs": [],
   "source": [
    "def convert_query(query):\n",
    "    if query != load_query():\n",
    "        return 'Cannot convert'\n",
    "    else:\n",
    "        return 'Can convert'"
   ]
  },
  {
   "cell_type": "code",
   "execution_count": 5,
   "id": "6887c835",
   "metadata": {},
   "outputs": [
    {
     "data": {
      "text/plain": [
       "'Cannot convert'"
      ]
     },
     "execution_count": 5,
     "metadata": {},
     "output_type": "execute_result"
    }
   ],
   "source": [
    "convert_query('abc')"
   ]
  },
  {
   "cell_type": "code",
   "execution_count": null,
   "id": "17cf5e61",
   "metadata": {},
   "outputs": [],
   "source": []
  }
 ],
 "metadata": {
  "kernelspec": {
   "display_name": "Python 3",
   "language": "python",
   "name": "python3"
  },
  "language_info": {
   "codemirror_mode": {
    "name": "ipython",
    "version": 3
   },
   "file_extension": ".py",
   "mimetype": "text/x-python",
   "name": "python",
   "nbconvert_exporter": "python",
   "pygments_lexer": "ipython3",
   "version": "3.6.9"
  }
 },
 "nbformat": 4,
 "nbformat_minor": 5
}
